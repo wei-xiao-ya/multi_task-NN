{
 "cells": [
  {
   "cell_type": "code",
   "execution_count": 2,
   "metadata": {},
   "outputs": [],
   "source": [
    "from chemprop.utils import load_checkpoint\n",
    "import pandas as pd\n",
    "import numpy as np\n",
    "from chemprop.args import TrainArgs\n",
    "from chemprop.data import get_data, get_task_names, MoleculeDataLoader\n",
    "from chemprop.train import predict\n",
    "from chemprop.utils import makedirs\n",
    "from sklearn.model_selection import StratifiedShuffleSplit\n",
    "from run_training_cross_i import run_training_cross\n",
    "from units import cal_metrics, get_pd_mean_var, get_pd_mean_var2\n",
    "from predict import save_pres\n",
    "\n",
    "\n",
    "def multi_predict(modelpath, datapath):\n",
    "\n",
    "    # init args\n",
    "    arguments = ['--data_path', '/',\n",
    "                 '--dataset_type', 'classification']\n",
    "    args = TrainArgs().parse_args(arguments)\n",
    "\n",
    "    # set\n",
    "    args.epochs = 30\n",
    "    args.depth = 3\n",
    "    args.batch_size = 1\n",
    "    args.hidden_size = 300\n",
    "\n",
    "    args.data_path = datapath\n",
    "    args.target_columns =  ['CHEMBL1871','CHEMBL206','CHEMBL2148','CHEMBL242','CHEMBL279','CHEMBL2842','CHEMBL299','CHEMBL2996','CHEMBL3522','CHEMBL5023','CHEMBL5347']\n",
    "    args.smiles_columns = ['Smiles']\n",
    "    args.task_names = get_task_names(path=args.data_path, smiles_columns=args.smiles_columns,\n",
    "                                     target_columns=args.target_columns, ignore_columns=args.ignore_columns)\n",
    "\n",
    "    # load model\n",
    "    model = load_checkpoint(modelpath)\n",
    "\n",
    "    # get data\n",
    "    test_data = get_data(path=args.data_path, args=args)\n",
    "    test_data_loader = MoleculeDataLoader(dataset=test_data, batch_size=1, num_workers=0)\n",
    "\n",
    "    # predict\n",
    "    test_preds = predict(model=model, data_loader=test_data_loader)\n",
    "    pred_pd = save_pres(test_data, test_preds, args)\n",
    "    return pred_pd"
   ]
  },
  {
   "cell_type": "code",
   "execution_count": 14,
   "metadata": {},
   "outputs": [
    {
     "name": "stderr",
     "output_type": "stream",
     "text": [
      "/public/home/weixiao/.conda/envs/chem1.7/lib/python3.8/site-packages/chemprop/utils.py:111: FutureWarning: You are using `torch.load` with `weights_only=False` (the current default value), which uses the default pickle module implicitly. It is possible to construct malicious pickle data which will execute arbitrary code during unpickling (See https://github.com/pytorch/pytorch/blob/main/SECURITY.md#untrusted-models for more details). In a future release, the default value for `weights_only` will be flipped to `True`. This limits the functions that could be executed during unpickling. Arbitrary objects will no longer be allowed to be loaded via this mode unless they are explicitly allowlisted by the user via `torch.serialization.add_safe_globals`. We recommend you start setting `weights_only=True` for any use case where you don't have full control of the loaded file. Please open an issue on GitHub for any issues related to this experimental feature.\n",
      "  state = torch.load(path, map_location=lambda storage, loc: storage)\n"
     ]
    },
    {
     "name": "stdout",
     "output_type": "stream",
     "text": [
      "Loading pretrained parameter \"encoder.encoder.0.cached_zero_vector\".\n",
      "Loading pretrained parameter \"encoder.encoder.0.W_i.weight\".\n",
      "Loading pretrained parameter \"encoder.encoder.0.W_h.weight\".\n",
      "Loading pretrained parameter \"encoder.encoder.0.W_o.weight\".\n",
      "Loading pretrained parameter \"encoder.encoder.0.W_o.bias\".\n",
      "Loading pretrained parameter \"readout.1.weight\".\n",
      "Loading pretrained parameter \"readout.1.bias\".\n",
      "Loading pretrained parameter \"readout.4.weight\".\n",
      "Loading pretrained parameter \"readout.4.bias\".\n"
     ]
    },
    {
     "name": "stderr",
     "output_type": "stream",
     "text": [
      "1it [00:00, 9776.93it/s]\n",
      "100%|██████████| 1/1 [00:00<00:00, 12228.29it/s]\n",
      "100%|██████████| 1/1 [00:00<00:00, 12192.74it/s]\n",
      "                                     \r"
     ]
    },
    {
     "data": {
      "text/html": [
       "<div>\n",
       "<style scoped>\n",
       "    .dataframe tbody tr th:only-of-type {\n",
       "        vertical-align: middle;\n",
       "    }\n",
       "\n",
       "    .dataframe tbody tr th {\n",
       "        vertical-align: top;\n",
       "    }\n",
       "\n",
       "    .dataframe thead th {\n",
       "        text-align: right;\n",
       "    }\n",
       "</style>\n",
       "<table border=\"1\" class=\"dataframe\">\n",
       "  <thead>\n",
       "    <tr style=\"text-align: right;\">\n",
       "      <th></th>\n",
       "      <th>smiles</th>\n",
       "      <th>CHEMBL1871</th>\n",
       "      <th>CHEMBL206</th>\n",
       "      <th>CHEMBL2148</th>\n",
       "      <th>CHEMBL242</th>\n",
       "      <th>CHEMBL279</th>\n",
       "      <th>CHEMBL2842</th>\n",
       "      <th>CHEMBL299</th>\n",
       "      <th>CHEMBL2996</th>\n",
       "      <th>CHEMBL3522</th>\n",
       "      <th>CHEMBL5023</th>\n",
       "      <th>CHEMBL5347</th>\n",
       "    </tr>\n",
       "  </thead>\n",
       "  <tbody>\n",
       "    <tr>\n",
       "      <th>0</th>\n",
       "      <td>C[C@]12CC[C@@H](C[C@H]1CC[C@@H]3[C@@H]2CC[C@]4...</td>\n",
       "      <td>0.999569</td>\n",
       "      <td>0.982544</td>\n",
       "      <td>0.002689</td>\n",
       "      <td>0.131605</td>\n",
       "      <td>0.997969</td>\n",
       "      <td>0.949901</td>\n",
       "      <td>0.333224</td>\n",
       "      <td>0.897458</td>\n",
       "      <td>0.789103</td>\n",
       "      <td>0.143833</td>\n",
       "      <td>0.101704</td>\n",
       "    </tr>\n",
       "  </tbody>\n",
       "</table>\n",
       "</div>"
      ],
      "text/plain": [
       "                                              smiles  CHEMBL1871  CHEMBL206  \\\n",
       "0  C[C@]12CC[C@@H](C[C@H]1CC[C@@H]3[C@@H]2CC[C@]4...    0.999569   0.982544   \n",
       "\n",
       "   CHEMBL2148  CHEMBL242  CHEMBL279  CHEMBL2842  CHEMBL299  CHEMBL2996  \\\n",
       "0    0.002689   0.131605   0.997969    0.949901   0.333224    0.897458   \n",
       "\n",
       "   CHEMBL3522  CHEMBL5023  CHEMBL5347  \n",
       "0    0.789103    0.143833    0.101704  "
      ]
     },
     "execution_count": 14,
     "metadata": {},
     "output_type": "execute_result"
    }
   ],
   "source": [
    "# /public/home/weixiao/nc-J/predict.csv\n",
    "\n",
    "modelpath = '/public/home/weixiao/chemprop-v1.7/chemprop-1.7.1/new-z/Multi_result/newtry11/a1/fold_4/model_0_multi//model.pt' \n",
    "datapath = '/public/home/weixiao/nc-J/predictdelet4005.csv'   \n",
    "predictions = multi_predict(modelpath=modelpath, datapath=datapath)\n",
    "predictions\n"
   ]
  }
 ],
 "metadata": {
  "kernelspec": {
   "display_name": "chem1.7",
   "language": "python",
   "name": "python3"
  },
  "language_info": {
   "codemirror_mode": {
    "name": "ipython",
    "version": 3
   },
   "file_extension": ".py",
   "mimetype": "text/x-python",
   "name": "python",
   "nbconvert_exporter": "python",
   "pygments_lexer": "ipython3",
   "version": "3.8.20"
  },
  "orig_nbformat": 4
 },
 "nbformat": 4,
 "nbformat_minor": 2
}
